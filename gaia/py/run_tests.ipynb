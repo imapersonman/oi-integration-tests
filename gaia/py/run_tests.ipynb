{
 "cells": [
  {
   "cell_type": "code",
   "execution_count": null,
   "metadata": {},
   "outputs": [],
   "source": [
    "import api\n",
    "import datasets\n",
    "import pandas as pd\n",
    "\n",
    "from models import CommandConfiguration"
   ]
  },
  {
   "cell_type": "code",
   "execution_count": null,
   "metadata": {},
   "outputs": [],
   "source": [
    "base = \"http://192.168.67.3:7172\"\n",
    "# base = \"http://127.0.0.1:7172\""
   ]
  },
  {
   "cell_type": "code",
   "execution_count": null,
   "metadata": {},
   "outputs": [],
   "source": [
    "print(f\"is_connected: {api.check_connection(base)}\")"
   ]
  },
  {
   "cell_type": "code",
   "execution_count": null,
   "metadata": {},
   "outputs": [],
   "source": [
    "data = datasets.load_dataset(\"gaia-benchmark/GAIA\", \"2023_all\", split=\"validation\")\n",
    "df = pd.DataFrame(data)\n",
    "level1 = [d[\"task_id\"] for d in data if d[\"Level\"] == \"1\" and d[\"file_path\"] != \"\"]"
   ]
  },
  {
   "cell_type": "code",
   "execution_count": null,
   "metadata": {},
   "outputs": [],
   "source": [
    "command = CommandConfiguration(\n",
    "    auto_run=True,\n",
    "    os_mode=False,\n",
    "    model=\"\",\n",
    "    api_base=\"\",\n",
    "    api_key=\"\",\n",
    "    system_prompt=\"\"\"You are a general AI assistant.\n",
    "I will ask you a question. Report your thoughts, and finish your answer with the following template: FINAL ANSWER: [YOUR FINAL ANSWER].\n",
    "YOUR FINAL ANSWER should be a number OR as few words as possible OR a comma separated list of numbers and/or strings.\n",
    "If you are asked for a number, don’t use comma to write your number neither use units such as $ or percent sign unless specified otherwise.\n",
    "If you are asked for a string, don’t use articles, neither abbreviations (e.g. for cities), and write the digits in plain text unless specified otherwise.\n",
    "If you are asked for a comma separated list, apply the above rules depending of whether the element to be put in the list is a number or a string.\"\"\"\n",
    ")"
   ]
  },
  {
   "cell_type": "code",
   "execution_count": null,
   "metadata": {},
   "outputs": [],
   "source": [
    "# api.run_single(base, command, level1[0])\n",
    "for task_id in level1:\n",
    "    try:\n",
    "        result = api.run_single(base, command, task_id, timeout_s=30 * 60)\n",
    "        print(result)\n",
    "    except Exception as e:\n",
    "        print(e)\n",
    "        raise e"
   ]
  },
  {
   "cell_type": "code",
   "execution_count": null,
   "metadata": {},
   "outputs": [],
   "source": []
  }
 ],
 "metadata": {
  "kernelspec": {
   "display_name": ".venv",
   "language": "python",
   "name": "python3"
  },
  "language_info": {
   "codemirror_mode": {
    "name": "ipython",
    "version": 3
   },
   "file_extension": ".py",
   "mimetype": "text/x-python",
   "name": "python",
   "nbconvert_exporter": "python",
   "pygments_lexer": "ipython3",
   "version": "3.12.2"
  },
  "orig_nbformat": 4
 },
 "nbformat": 4,
 "nbformat_minor": 2
}

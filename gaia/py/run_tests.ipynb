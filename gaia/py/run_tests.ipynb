{
 "cells": [
  {
   "cell_type": "code",
   "execution_count": 1,
   "metadata": {},
   "outputs": [
    {
     "name": "stderr",
     "output_type": "stream",
     "text": [
      "/Users/koissiadjorlolo/Desktop/OI/oi-integration-tests/gaia/py/.venv/lib/python3.12/site-packages/tqdm/auto.py:21: TqdmWarning: IProgress not found. Please update jupyter and ipywidgets. See https://ipywidgets.readthedocs.io/en/stable/user_install.html\n",
      "  from .autonotebook import tqdm as notebook_tqdm\n"
     ]
    }
   ],
   "source": [
    "import api\n",
    "import datasets\n",
    "import pandas as pd\n",
    "\n",
    "from models import CommandConfiguration"
   ]
  },
  {
   "cell_type": "code",
   "execution_count": 2,
   "metadata": {},
   "outputs": [],
   "source": [
    "# base = \"http://192.168.67.3:7172\"\n",
    "base = \"http://127.0.0.1:7172\""
   ]
  },
  {
   "cell_type": "code",
   "execution_count": 3,
   "metadata": {},
   "outputs": [
    {
     "name": "stdout",
     "output_type": "stream",
     "text": [
      "is_connected: True\n"
     ]
    }
   ],
   "source": [
    "print(f\"is_connected: {api.check_connection(base)}\")"
   ]
  },
  {
   "cell_type": "code",
   "execution_count": 4,
   "metadata": {},
   "outputs": [],
   "source": [
    "data = datasets.load_dataset(\"gaia-benchmark/GAIA\", \"2023_all\", split=\"validation\")\n",
    "df = pd.DataFrame(data)\n",
    "level1 = [d[\"task_id\"] for d in data if d[\"Level\"] == \"1\" and d[\"file_path\"] != \"\"]"
   ]
  },
  {
   "cell_type": "code",
   "execution_count": 5,
   "metadata": {},
   "outputs": [],
   "source": [
    "command = CommandConfiguration(\n",
    "    auto_run=True,\n",
    "    os_mode=False,\n",
    "    model=\"ollama/llama3\",\n",
    "    api_base=\"http://192.168.1.86:11434\",\n",
    "    api_key=\"\",\n",
    "    system_prompt=\"\"\"You are a general AI assistant.\n",
    "I will ask you a question. Report your thoughts, and finish your answer with the following template: FINAL ANSWER: [YOUR FINAL ANSWER].\n",
    "YOUR FINAL ANSWER should be a number OR as few words as possible OR a comma separated list of numbers and/or strings.\n",
    "If you are asked for a number, don’t use comma to write your number neither use units such as $ or percent sign unless specified otherwise.\n",
    "If you are asked for a string, don’t use articles, neither abbreviations (e.g. for cities), and write the digits in plain text unless specified otherwise.\n",
    "If you are asked for a comma separated list, apply the above rules depending of whether the element to be put in the list is a number or a string.\"\"\"\n",
    ")"
   ]
  },
  {
   "cell_type": "code",
   "execution_count": 6,
   "metadata": {},
   "outputs": [
    {
     "data": {
      "text/plain": [
       "ErrorTaskResult(status='error', created=datetime.datetime(2024, 5, 16, 22, 43, 4, 555832), message='[Errno 61] Connection refused', conversation=[{'role': 'error', 'content': 'Traceback (most recent call last):\\n  File \"/Users/koissiadjorlolo/Desktop/OI/oi-integration-tests/gaia/py/.venv/lib/python3.12/site-packages/httpx/_transports/default.py\", line 69, in map_httpcore_exceptions\\n    yield\\n  File \"/Users/koissiadjorlolo/Desktop/OI/oi-integration-tests/gaia/py/.venv/lib/python3.12/site-packages/httpx/_transports/default.py\", line 233, in handle_request\\n    resp = self._pool.handle_request(req)\\n           ^^^^^^^^^^^^^^^^^^^^^^^^^^^^^^\\n  File \"/Users/koissiadjorlolo/Desktop/OI/oi-integration-tests/gaia/py/.venv/lib/python3.12/site-packages/httpcore/_sync/connection_pool.py\", line 216, in handle_request\\n    raise exc from None\\n  File \"/Users/koissiadjorlolo/Desktop/OI/oi-integration-tests/gaia/py/.venv/lib/python3.12/site-packages/httpcore/_sync/connection_pool.py\", line 196, in handle_request\\n    response = connection.handle_request(\\n               ^^^^^^^^^^^^^^^^^^^^^^^^^^\\n  File \"/Users/koissiadjorlolo/Desktop/OI/oi-integration-tests/gaia/py/.venv/lib/python3.12/site-packages/httpcore/_sync/connection.py\", line 99, in handle_request\\n    raise exc\\n  File \"/Users/koissiadjorlolo/Desktop/OI/oi-integration-tests/gaia/py/.venv/lib/python3.12/site-packages/httpcore/_sync/connection.py\", line 76, in handle_request\\n    stream = self._connect(request)\\n             ^^^^^^^^^^^^^^^^^^^^^^\\n  File \"/Users/koissiadjorlolo/Desktop/OI/oi-integration-tests/gaia/py/.venv/lib/python3.12/site-packages/httpcore/_sync/connection.py\", line 122, in _connect\\n    stream = self._network_backend.connect_tcp(**kwargs)\\n             ^^^^^^^^^^^^^^^^^^^^^^^^^^^^^^^^^^^^^^^^^^^\\n  File \"/Users/koissiadjorlolo/Desktop/OI/oi-integration-tests/gaia/py/.venv/lib/python3.12/site-packages/httpcore/_backends/sync.py\", line 205, in connect_tcp\\n    with map_exceptions(exc_map):\\n  File \"/Users/koissiadjorlolo/.pyenv/versions/3.12.2/lib/python3.12/contextlib.py\", line 158, in __exit__\\n    self.gen.throw(value)\\n  File \"/Users/koissiadjorlolo/Desktop/OI/oi-integration-tests/gaia/py/.venv/lib/python3.12/site-packages/httpcore/_exceptions.py\", line 14, in map_exceptions\\n    raise to_exc(exc) from exc\\nhttpcore.ConnectError: [Errno 61] Connection refused\\n\\nThe above exception was the direct cause of the following exception:\\n\\nTraceback (most recent call last):\\n  File \"/Users/koissiadjorlolo/Desktop/OI/oi-integration-tests/gaia/py/runner.py\", line 48, in run\\n    output = cast(List, interpreter.chat(prompt, display=True, stream=False))\\n                        ^^^^^^^^^^^^^^^^^^^^^^^^^^^^^^^^^^^^^^^^^^^^^^^^^^^^\\n  File \"/Users/koissiadjorlolo/Desktop/OI/oi-integration-tests/gaia/py/.venv/lib/python3.12/site-packages/interpreter/core/core.py\", line 166, in chat\\n    for _ in self._streaming_chat(message=message, display=display):\\n  File \"/Users/koissiadjorlolo/Desktop/OI/oi-integration-tests/gaia/py/.venv/lib/python3.12/site-packages/interpreter/core/core.py\", line 195, in _streaming_chat\\n    yield from terminal_interface(self, message)\\n  File \"/Users/koissiadjorlolo/Desktop/OI/oi-integration-tests/gaia/py/.venv/lib/python3.12/site-packages/interpreter/terminal_interface/terminal_interface.py\", line 133, in terminal_interface\\n    for chunk in interpreter.chat(message, display=False, stream=True):\\n  File \"/Users/koissiadjorlolo/Desktop/OI/oi-integration-tests/gaia/py/.venv/lib/python3.12/site-packages/interpreter/core/core.py\", line 234, in _streaming_chat\\n    yield from self._respond_and_store()\\n  File \"/Users/koissiadjorlolo/Desktop/OI/oi-integration-tests/gaia/py/.venv/lib/python3.12/site-packages/interpreter/core/core.py\", line 282, in _respond_and_store\\n    for chunk in respond(self):\\n  File \"/Users/koissiadjorlolo/Desktop/OI/oi-integration-tests/gaia/py/.venv/lib/python3.12/site-packages/interpreter/core/respond.py\", line 69, in respond\\n    for chunk in interpreter.llm.run(messages_for_llm):\\n  File \"/Users/koissiadjorlolo/Desktop/OI/oi-integration-tests/gaia/py/.venv/lib/python3.12/site-packages/interpreter/core/llm/llm.py\", line 201, in run\\n    yield from run_text_llm(self, params)\\n  File \"/Users/koissiadjorlolo/Desktop/OI/oi-integration-tests/gaia/py/.venv/lib/python3.12/site-packages/interpreter/core/llm/run_text_llm.py\", line 20, in run_text_llm\\n    for chunk in llm.completions(**params):\\n  File \"/Users/koissiadjorlolo/Desktop/OI/oi-integration-tests/gaia/py/.venv/lib/python3.12/site-packages/interpreter/core/llm/llm.py\", line 232, in fixed_litellm_completions\\n    raise first_error\\n  File \"/Users/koissiadjorlolo/Desktop/OI/oi-integration-tests/gaia/py/.venv/lib/python3.12/site-packages/interpreter/core/llm/llm.py\", line 213, in fixed_litellm_completions\\n    yield from litellm.completion(**params)\\n  File \"/Users/koissiadjorlolo/Desktop/OI/oi-integration-tests/gaia/py/.venv/lib/python3.12/site-packages/litellm/llms/ollama.py\", line 243, in ollama_completion_stream\\n    with httpx.stream(\\n  File \"/Users/koissiadjorlolo/.pyenv/versions/3.12.2/lib/python3.12/contextlib.py\", line 137, in __enter__\\n    return next(self.gen)\\n           ^^^^^^^^^^^^^^\\n  File \"/Users/koissiadjorlolo/Desktop/OI/oi-integration-tests/gaia/py/.venv/lib/python3.12/site-packages/httpx/_api.py\", line 160, in stream\\n    with client.stream(\\n  File \"/Users/koissiadjorlolo/.pyenv/versions/3.12.2/lib/python3.12/contextlib.py\", line 137, in __enter__\\n    return next(self.gen)\\n           ^^^^^^^^^^^^^^\\n  File \"/Users/koissiadjorlolo/Desktop/OI/oi-integration-tests/gaia/py/.venv/lib/python3.12/site-packages/httpx/_client.py\", line 870, in stream\\n    response = self.send(\\n               ^^^^^^^^^^\\n  File \"/Users/koissiadjorlolo/Desktop/OI/oi-integration-tests/gaia/py/.venv/lib/python3.12/site-packages/httpx/_client.py\", line 914, in send\\n    response = self._send_handling_auth(\\n               ^^^^^^^^^^^^^^^^^^^^^^^^^\\n  File \"/Users/koissiadjorlolo/Desktop/OI/oi-integration-tests/gaia/py/.venv/lib/python3.12/site-packages/httpx/_client.py\", line 942, in _send_handling_auth\\n    response = self._send_handling_redirects(\\n               ^^^^^^^^^^^^^^^^^^^^^^^^^^^^^^\\n  File \"/Users/koissiadjorlolo/Desktop/OI/oi-integration-tests/gaia/py/.venv/lib/python3.12/site-packages/httpx/_client.py\", line 979, in _send_handling_redirects\\n    response = self._send_single_request(request)\\n               ^^^^^^^^^^^^^^^^^^^^^^^^^^^^^^^^^^\\n  File \"/Users/koissiadjorlolo/Desktop/OI/oi-integration-tests/gaia/py/.venv/lib/python3.12/site-packages/httpx/_client.py\", line 1015, in _send_single_request\\n    response = transport.handle_request(request)\\n               ^^^^^^^^^^^^^^^^^^^^^^^^^^^^^^^^^\\n  File \"/Users/koissiadjorlolo/Desktop/OI/oi-integration-tests/gaia/py/.venv/lib/python3.12/site-packages/httpx/_transports/default.py\", line 232, in handle_request\\n    with map_httpcore_exceptions():\\n  File \"/Users/koissiadjorlolo/.pyenv/versions/3.12.2/lib/python3.12/contextlib.py\", line 158, in __exit__\\n    self.gen.throw(value)\\n  File \"/Users/koissiadjorlolo/Desktop/OI/oi-integration-tests/gaia/py/.venv/lib/python3.12/site-packages/httpx/_transports/default.py\", line 86, in map_httpcore_exceptions\\n    raise mapped_exc(message) from exc\\nhttpx.ConnectError: [Errno 61] Connection refused\\n'}])"
      ]
     },
     "execution_count": 6,
     "metadata": {},
     "output_type": "execute_result"
    }
   ],
   "source": [
    "api.run_single(base, command, level1[0])\n",
    "# for task_id in level1:\n",
    "#     try:\n",
    "#         result = api.run_single(base, command, task_id, timeout_s=20 * 60)\n",
    "#         print(result)\n",
    "#     except Exception as e:\n",
    "#         print(e)\n",
    "#         raise e"
   ]
  },
  {
   "cell_type": "code",
   "execution_count": null,
   "metadata": {},
   "outputs": [],
   "source": []
  }
 ],
 "metadata": {
  "kernelspec": {
   "display_name": ".venv",
   "language": "python",
   "name": "python3"
  },
  "language_info": {
   "codemirror_mode": {
    "name": "ipython",
    "version": 3
   },
   "file_extension": ".py",
   "mimetype": "text/x-python",
   "name": "python",
   "nbconvert_exporter": "python",
   "pygments_lexer": "ipython3",
   "version": "3.12.2"
  },
  "orig_nbformat": 4
 },
 "nbformat": 4,
 "nbformat_minor": 2
}
